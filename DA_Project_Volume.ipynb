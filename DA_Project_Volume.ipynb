{
  "cells": [
    {
      "cell_type": "markdown",
      "metadata": {
        "id": "view-in-github",
        "colab_type": "text"
      },
      "source": [
        "<a href=\"https://colab.research.google.com/github/aselya9185/data_analysis/blob/pulmonary_nodules_classification/DA_Project_Volume.ipynb\" target=\"_parent\"><img src=\"https://colab.research.google.com/assets/colab-badge.svg\" alt=\"Open In Colab\"/></a>"
      ]
    },
    {
      "cell_type": "code",
      "execution_count": null,
      "metadata": {
        "id": "5zIuqZdY-R6w",
        "colab": {
          "base_uri": "https://localhost:8080/"
        },
        "outputId": "3fff4b87-de56-42a8-93de-0e2e3a730110"
      },
      "outputs": [
        {
          "output_type": "stream",
          "name": "stdout",
          "text": [
            "Mounted at /content/gdrive\n"
          ]
        }
      ],
      "source": [
        "from google.colab import drive\n",
        "\n",
        "drive.mount('/content/gdrive')"
      ]
    },
    {
      "cell_type": "code",
      "execution_count": null,
      "metadata": {
        "colab": {
          "base_uri": "https://localhost:8080/"
        },
        "id": "V7mP0Ir_AWJ3",
        "outputId": "9387714d-9c4f-4f3a-b881-da4c0bf93035"
      },
      "outputs": [
        {
          "output_type": "stream",
          "name": "stdout",
          "text": [
            " 0_DA_Project_v2.ipynb\t     ExtractedFeatures_slices2.csv\n",
            " 1_DA_Project_Slices.ipynb  '!ExtractedFeatures_slices_full.csv'\n",
            " 1_DA_Project_Volume.ipynb   Features.csv\n",
            " 2_DA_Project_Volume.ipynb   FeaturesExtraction_Params.yaml\n",
            " chart_rr.xlsx\t\t     FullDataset\n",
            " Charts.gsheet\t\t     images.gslides\n",
            " DA_Project\t\t     malign_benign_std_devided_mean_all_features_info.csv\n",
            " DA_Project_DL_v1\t     malign_benign_std_devided_mean_all_features_info.gsheet\n",
            " DA_Project_DL_v2\t     ML_Workflow.gdraw\n",
            " DA_Project_DL_v3\t     Modified_Params.yaml\n",
            " DA_Project_Slices\t     NiftyIO.py\n",
            " DA_Project_v3\t\t     Params.yaml\n",
            " DA_Project_v4\t\t    'Pulmonary Nodules Classification - Report (v2).gdoc'\n",
            " DA_Project_Volume\t    'Report Instructions - Draft.gdoc'\n",
            " ExtractedFeatures_2.csv     SHTI-281-SHTI210143.pdf\n",
            " ExtractedFeatures.csv\t     test_file5.csv\n"
          ]
        }
      ],
      "source": [
        "!ls \"/content/gdrive/MyDrive/RICSE_DataAnalytics\""
      ]
    },
    {
      "cell_type": "markdown",
      "metadata": {
        "id": "xgzGdimN8iB3"
      },
      "source": [
        "# First step\n",
        "In order to use this notebook, the first thing you will need to do is to import the FullDataset.\n",
        "1. Create a new \"folder\" in your google drive homepage called \"RICSE\".\n",
        "2. Inside the folder:\n",
        "  1. Upload the same `FullDataset` folder you have in your computer (the one we downloaded from campus virtual).\n",
        "  2. Upload the `FeaturesExtraction_Params.yaml` file also (the one we downloaded from campus virtual for the PyRadiomics class).\n",
        "4. Execute the code in the following cell.\n",
        "5. A modal will be prompt asking for your permissions, click on \"Allow\" and then return to this page.\n",
        "6. Once the connection between this notebook and your drive is done you will be able to execute the rest of the code.\n",
        "  If the connection was succesfull you will see the **\"Mounted at /content/gdrive/\"** message as shown bellow."
      ]
    },
    {
      "cell_type": "code",
      "execution_count": null,
      "metadata": {
        "id": "yqkan8d48JNw",
        "colab": {
          "base_uri": "https://localhost:8080/",
          "height": 1000
        },
        "outputId": "cae16aad-e5b3-4f27-9abf-ba39d998d78a"
      },
      "outputs": [
        {
          "output_type": "stream",
          "name": "stdout",
          "text": [
            "Requirement already satisfied: pip in /usr/local/lib/python3.10/dist-packages (23.1.2)\n",
            "Collecting pip\n",
            "  Downloading pip-23.3.2-py3-none-any.whl (2.1 MB)\n",
            "\u001b[2K     \u001b[90m━━━━━━━━━━━━━━━━━━━━━━━━━━━━━━━━━━━━━━━━\u001b[0m \u001b[32m2.1/2.1 MB\u001b[0m \u001b[31m11.0 MB/s\u001b[0m eta \u001b[36m0:00:00\u001b[0m\n",
            "\u001b[?25hRequirement already satisfied: setuptools in /usr/local/lib/python3.10/dist-packages (67.7.2)\n",
            "Collecting setuptools\n",
            "  Downloading setuptools-69.0.3-py3-none-any.whl (819 kB)\n",
            "\u001b[2K     \u001b[90m━━━━━━━━━━━━━━━━━━━━━━━━━━━━━━━━━━━━━━━━\u001b[0m \u001b[32m819.5/819.5 kB\u001b[0m \u001b[31m15.8 MB/s\u001b[0m eta \u001b[36m0:00:00\u001b[0m\n",
            "\u001b[?25hRequirement already satisfied: wheel in /usr/local/lib/python3.10/dist-packages (0.42.0)\n",
            "Installing collected packages: setuptools, pip\n",
            "  Attempting uninstall: setuptools\n",
            "    Found existing installation: setuptools 67.7.2\n",
            "    Uninstalling setuptools-67.7.2:\n",
            "      Successfully uninstalled setuptools-67.7.2\n",
            "  Attempting uninstall: pip\n",
            "    Found existing installation: pip 23.1.2\n",
            "    Uninstalling pip-23.1.2:\n",
            "      Successfully uninstalled pip-23.1.2\n",
            "\u001b[31mERROR: pip's dependency resolver does not currently take into account all the packages that are installed. This behaviour is the source of the following dependency conflicts.\n",
            "ipython 7.34.0 requires jedi>=0.16, which is not installed.\n",
            "lida 0.0.10 requires fastapi, which is not installed.\n",
            "lida 0.0.10 requires kaleido, which is not installed.\n",
            "lida 0.0.10 requires python-multipart, which is not installed.\n",
            "lida 0.0.10 requires uvicorn, which is not installed.\u001b[0m\u001b[31m\n",
            "\u001b[0mSuccessfully installed pip-23.3.2 setuptools-69.0.3\n"
          ]
        },
        {
          "output_type": "display_data",
          "data": {
            "application/vnd.colab-display-data+json": {
              "pip_warning": {
                "packages": [
                  "_distutils_hack",
                  "pkg_resources",
                  "setuptools"
                ]
              }
            }
          },
          "metadata": {}
        },
        {
          "output_type": "stream",
          "name": "stdout",
          "text": [
            "Requirement already satisfied: matplotlib in /usr/local/lib/python3.10/dist-packages (3.7.1)\n",
            "Requirement already satisfied: numpy in /usr/local/lib/python3.10/dist-packages (1.23.5)\n",
            "Collecting SimpleITK\n",
            "  Downloading SimpleITK-2.3.1-cp310-cp310-manylinux_2_17_x86_64.manylinux2014_x86_64.whl.metadata (7.9 kB)\n",
            "Requirement already satisfied: contourpy>=1.0.1 in /usr/local/lib/python3.10/dist-packages (from matplotlib) (1.2.0)\n",
            "Requirement already satisfied: cycler>=0.10 in /usr/local/lib/python3.10/dist-packages (from matplotlib) (0.12.1)\n",
            "Requirement already satisfied: fonttools>=4.22.0 in /usr/local/lib/python3.10/dist-packages (from matplotlib) (4.47.2)\n",
            "Requirement already satisfied: kiwisolver>=1.0.1 in /usr/local/lib/python3.10/dist-packages (from matplotlib) (1.4.5)\n",
            "Requirement already satisfied: packaging>=20.0 in /usr/local/lib/python3.10/dist-packages (from matplotlib) (23.2)\n",
            "Requirement already satisfied: pillow>=6.2.0 in /usr/local/lib/python3.10/dist-packages (from matplotlib) (9.4.0)\n",
            "Requirement already satisfied: pyparsing>=2.3.1 in /usr/local/lib/python3.10/dist-packages (from matplotlib) (3.1.1)\n",
            "Requirement already satisfied: python-dateutil>=2.7 in /usr/local/lib/python3.10/dist-packages (from matplotlib) (2.8.2)\n",
            "Requirement already satisfied: six>=1.5 in /usr/local/lib/python3.10/dist-packages (from python-dateutil>=2.7->matplotlib) (1.16.0)\n",
            "Downloading SimpleITK-2.3.1-cp310-cp310-manylinux_2_17_x86_64.manylinux2014_x86_64.whl (52.7 MB)\n",
            "\u001b[2K   \u001b[90m━━━━━━━━━━━━━━━━━━━━━━━━━━━━━━━━━━━━━━━━\u001b[0m \u001b[32m52.7/52.7 MB\u001b[0m \u001b[31m16.0 MB/s\u001b[0m eta \u001b[36m0:00:00\u001b[0m\n",
            "\u001b[?25hInstalling collected packages: SimpleITK\n",
            "Successfully installed SimpleITK-2.3.1\n",
            "\u001b[33mWARNING: Running pip as the 'root' user can result in broken permissions and conflicting behaviour with the system package manager. It is recommended to use a virtual environment instead: https://pip.pypa.io/warnings/venv\u001b[0m\u001b[33m\n",
            "\u001b[0mCollecting pyradiomics\n",
            "  Downloading pyradiomics-3.1.0.tar.gz (34.5 MB)\n",
            "\u001b[2K     \u001b[90m━━━━━━━━━━━━━━━━━━━━━━━━━━━━━━━━━━━━━━━━\u001b[0m \u001b[32m34.5/34.5 MB\u001b[0m \u001b[31m6.5 MB/s\u001b[0m eta \u001b[36m0:00:00\u001b[0m\n",
            "\u001b[?25h  Installing build dependencies ... \u001b[?25l\u001b[?25hdone\n",
            "  Getting requirements to build wheel ... \u001b[?25l\u001b[?25hdone\n",
            "  Installing backend dependencies ... \u001b[?25l\u001b[?25hdone\n",
            "  Preparing metadata (pyproject.toml) ... \u001b[?25l\u001b[?25hdone\n",
            "Discarding \u001b[4;34mhttps://files.pythonhosted.org/packages/03/c1/20fc2c50ab1e3304da36d866042a1905a2b05a1431ece35448ab6b4578f2/pyradiomics-3.1.0.tar.gz (from https://pypi.org/simple/pyradiomics/)\u001b[0m: \u001b[33mRequested pyradiomics from https://files.pythonhosted.org/packages/03/c1/20fc2c50ab1e3304da36d866042a1905a2b05a1431ece35448ab6b4578f2/pyradiomics-3.1.0.tar.gz has inconsistent version: expected '3.1.0', but metadata has '3.0.1a1'\u001b[0m\n",
            "  Downloading pyradiomics-3.0.1.tar.gz (34.5 MB)\n",
            "\u001b[2K     \u001b[90m━━━━━━━━━━━━━━━━━━━━━━━━━━━━━━━━━━━━━━━━\u001b[0m \u001b[32m34.5/34.5 MB\u001b[0m \u001b[31m34.5 MB/s\u001b[0m eta \u001b[36m0:00:00\u001b[0m\n",
            "\u001b[?25h  Preparing metadata (setup.py) ... \u001b[?25l\u001b[?25hdone\n",
            "Requirement already satisfied: numpy>=1.9.2 in /usr/local/lib/python3.10/dist-packages (from pyradiomics) (1.23.5)\n",
            "Requirement already satisfied: SimpleITK>=0.9.1 in /usr/local/lib/python3.10/dist-packages (from pyradiomics) (2.3.1)\n",
            "Requirement already satisfied: PyWavelets>=0.4.0 in /usr/local/lib/python3.10/dist-packages (from pyradiomics) (1.5.0)\n",
            "Collecting pykwalify>=1.6.0 (from pyradiomics)\n",
            "  Downloading pykwalify-1.8.0-py2.py3-none-any.whl (24 kB)\n",
            "Requirement already satisfied: six>=1.10.0 in /usr/local/lib/python3.10/dist-packages (from pyradiomics) (1.16.0)\n",
            "Collecting docopt>=0.6.2 (from pykwalify>=1.6.0->pyradiomics)\n",
            "  Downloading docopt-0.6.2.tar.gz (25 kB)\n",
            "  Preparing metadata (setup.py) ... \u001b[?25l\u001b[?25hdone\n",
            "Requirement already satisfied: python-dateutil>=2.8.0 in /usr/local/lib/python3.10/dist-packages (from pykwalify>=1.6.0->pyradiomics) (2.8.2)\n",
            "Collecting ruamel.yaml>=0.16.0 (from pykwalify>=1.6.0->pyradiomics)\n",
            "  Downloading ruamel.yaml-0.18.5-py3-none-any.whl.metadata (23 kB)\n",
            "Collecting ruamel.yaml.clib>=0.2.7 (from ruamel.yaml>=0.16.0->pykwalify>=1.6.0->pyradiomics)\n",
            "  Downloading ruamel.yaml.clib-0.2.8-cp310-cp310-manylinux_2_17_x86_64.manylinux2014_x86_64.manylinux_2_24_x86_64.whl.metadata (2.2 kB)\n",
            "Downloading ruamel.yaml-0.18.5-py3-none-any.whl (116 kB)\n",
            "\u001b[2K   \u001b[90m━━━━━━━━━━━━━━━━━━━━━━━━━━━━━━━━━━━━━━━━\u001b[0m \u001b[32m116.4/116.4 kB\u001b[0m \u001b[31m7.5 MB/s\u001b[0m eta \u001b[36m0:00:00\u001b[0m\n",
            "\u001b[?25hDownloading ruamel.yaml.clib-0.2.8-cp310-cp310-manylinux_2_17_x86_64.manylinux2014_x86_64.manylinux_2_24_x86_64.whl (526 kB)\n",
            "\u001b[2K   \u001b[90m━━━━━━━━━━━━━━━━━━━━━━━━━━━━━━━━━━━━━━━━\u001b[0m \u001b[32m526.7/526.7 kB\u001b[0m \u001b[31m24.6 MB/s\u001b[0m eta \u001b[36m0:00:00\u001b[0m\n",
            "\u001b[?25hBuilding wheels for collected packages: pyradiomics, docopt\n",
            "  Building wheel for pyradiomics (setup.py) ... \u001b[?25l\u001b[?25hdone\n",
            "  Created wheel for pyradiomics: filename=pyradiomics-3.0.1-cp310-cp310-linux_x86_64.whl size=169712 sha256=35e3d27e5dc3cb854e05c3f92d8a4338a5fbf17883776a762e91943a98e2b77e\n",
            "  Stored in directory: /root/.cache/pip/wheels/91/c5/13/c5fd4c5ad3edf4062bb3855bd66fad25871c9c6dc0b3fda544\n",
            "  Building wheel for docopt (setup.py) ... \u001b[?25l\u001b[?25hdone\n",
            "  Created wheel for docopt: filename=docopt-0.6.2-py2.py3-none-any.whl size=13706 sha256=74e5163a084939d5e13360f32f585415f1557d5497e9b2d0c8bb9a3f14123fa3\n",
            "  Stored in directory: /root/.cache/pip/wheels/fc/ab/d4/5da2067ac95b36618c629a5f93f809425700506f72c9732fac\n",
            "Successfully built pyradiomics docopt\n",
            "Installing collected packages: docopt, ruamel.yaml.clib, ruamel.yaml, pykwalify, pyradiomics\n",
            "Successfully installed docopt-0.6.2 pykwalify-1.8.0 pyradiomics-3.0.1 ruamel.yaml-0.18.5 ruamel.yaml.clib-0.2.8\n",
            "\u001b[33mWARNING: Running pip as the 'root' user can result in broken permissions and conflicting behaviour with the system package manager. It is recommended to use a virtual environment instead: https://pip.pypa.io/warnings/venv\u001b[0m\u001b[33m\n",
            "\u001b[0m"
          ]
        }
      ],
      "source": [
        "!pip install --upgrade pip setuptools wheel\n",
        "!pip install matplotlib numpy SimpleITK\n",
        "!pip install pyradiomics"
      ]
    },
    {
      "cell_type": "code",
      "execution_count": null,
      "metadata": {
        "id": "EdNH55C09YuZ"
      },
      "outputs": [],
      "source": [
        "import matplotlib.pyplot as plt\n",
        "import numpy as np\n",
        "import os\n",
        "import SimpleITK as sitk\n",
        "import six\n",
        "\n",
        "from radiomics import featureextractor\n",
        "import pandas as pd\n",
        "from collections import OrderedDict\n",
        "\n",
        "from io import StringIO\n",
        "from tabulate import tabulate"
      ]
    },
    {
      "cell_type": "markdown",
      "source": [
        "## Sample on how to extract the features"
      ],
      "metadata": {
        "id": "404rUf0Lq-C8"
      }
    },
    {
      "cell_type": "code",
      "execution_count": null,
      "metadata": {
        "colab": {
          "base_uri": "https://localhost:8080/"
        },
        "id": "WW_vFo6Z8Hxa",
        "outputId": "ae8756ce-5b60-48d9-a5f6-c9697bab9d7f"
      },
      "outputs": [
        {
          "output_type": "stream",
          "name": "stderr",
          "text": [
            "INFO:radiomics.featureextractor:Loading parameter file /content/gdrive/MyDrive/RICSE_DataAnalytics/Modified_Params.yaml\n",
            "INFO:radiomics.featureextractor:Calculating features with label: 1\n",
            "INFO:radiomics.featureextractor:Loading image and mask\n",
            "INFO:radiomics.imageoperations:Applying resampling from spacing [0.703125 0.703125 2.5     ] and size [53 64 11] to spacing [1. 1. 1.] and size [38, 45, 28]\n",
            "INFO:radiomics.featureextractor:Computing shape\n",
            "INFO:radiomics.featureextractor:Adding image type \"Original\" with custom settings: {}\n",
            "INFO:radiomics.featureextractor:Calculating features for original image\n",
            "INFO:radiomics.featureextractor:Computing firstorder\n",
            "INFO:radiomics.featureextractor:Computing glcm\n",
            "GLCM is symmetrical, therefore Sum Average = 2 * Joint Average, only 1 needs to be calculated\n",
            "WARNING:radiomics.glcm:GLCM is symmetrical, therefore Sum Average = 2 * Joint Average, only 1 needs to be calculated\n",
            "INFO:radiomics.featureextractor:Computing glszm\n",
            "INFO:radiomics.featureextractor:Computing glrlm\n",
            "INFO:radiomics.featureextractor:Computing gldm\n"
          ]
        },
        {
          "output_type": "stream",
          "name": "stdout",
          "text": [
            "+----+----------------+-------------+-------------+------------------------------------+------------------------------------+------------------------------+-------------------------------+------------------------------------------+--------------------------------+-------------------------------+----------------------------+---------------------------------------------+------------------------------+-------------------------------+-----------------------------+---------------------------------------------------+---------------------------------------+--------------------------------+-----------------------------------+----------------------------------+--------------------------------+---------------------------------+-----------------------------------+------------------------------+---------------------------------+--------------------------+-----------------------------+-----------------------------------+-----------------------------------+------------------------------------+--------------------+---------------------+----------------------+---------------------+----------------------+----------------------+---------------------------------+------------------------------+-----------------------------+------------------------------+---------------------+------------------------------------+----------------------------+----------------------------+----------------------------+-----------------------------------+-----------------------------------------+---------------------------------------------------+------------------------------------+----------------------------------------+-----------------------------------+---------------------------------------+-----------------------------------------+------------------------------------------------------+-----------------------------------------------------+--------------------------------------+-----------------------------------------+------------------------------------------------------+-----------------------------------------------------+-----------------------------------------+---------------------------------------------------+------------------------------------+-------------------------------------------+----------------------------------+-----------------------------------------------+----------------------------------------------+------------------------------------------+-----------------------------+-----------------------------------------+---------------------------------------------------+--------------------------------+------------------------------+-----------------------------------+------------------------------------------------+-----------------------------------------------+-----------------------------------------+---------------------------------------------------+------------------------------------+--------------------------------------------+------------------------------------+-------------------------------------------------+------------------------------------------------+-------------------------------------------+----------------------------------------+--------------------------------------------------+------------------------------------+-------------------------------------------------+------------------------------------------------+------------------------------+---------------------------------+-------------------------------+------------------------------+-------------------------------------+------------------------------+\n",
            "|    | patient_id     |   nodule_id |   diagnosis |   original_firstorder_10Percentile |   original_firstorder_90Percentile |   original_firstorder_Energy |   original_firstorder_Entropy |   original_firstorder_InterquartileRange |   original_firstorder_Kurtosis |   original_firstorder_Maximum |   original_firstorder_Mean |   original_firstorder_MeanAbsoluteDeviation |   original_firstorder_Median |   original_firstorder_Minimum |   original_firstorder_Range |   original_firstorder_RobustMeanAbsoluteDeviation |   original_firstorder_RootMeanSquared |   original_firstorder_Skewness |   original_firstorder_TotalEnergy |   original_firstorder_Uniformity |   original_firstorder_Variance |   original_glcm_Autocorrelation |   original_glcm_ClusterProminence |   original_glcm_ClusterShade |   original_glcm_ClusterTendency |   original_glcm_Contrast |   original_glcm_Correlation |   original_glcm_DifferenceAverage |   original_glcm_DifferenceEntropy |   original_glcm_DifferenceVariance |   original_glcm_Id |   original_glcm_Idm |   original_glcm_Idmn |   original_glcm_Idn |   original_glcm_Imc1 |   original_glcm_Imc2 |   original_glcm_InverseVariance |   original_glcm_JointAverage |   original_glcm_JointEnergy |   original_glcm_JointEntropy |   original_glcm_MCC |   original_glcm_MaximumProbability |   original_glcm_SumAverage |   original_glcm_SumEntropy |   original_glcm_SumSquares |   original_gldm_DependenceEntropy |   original_gldm_DependenceNonUniformity |   original_gldm_DependenceNonUniformityNormalized |   original_gldm_DependenceVariance |   original_gldm_GrayLevelNonUniformity |   original_gldm_GrayLevelVariance |   original_gldm_HighGrayLevelEmphasis |   original_gldm_LargeDependenceEmphasis |   original_gldm_LargeDependenceHighGrayLevelEmphasis |   original_gldm_LargeDependenceLowGrayLevelEmphasis |   original_gldm_LowGrayLevelEmphasis |   original_gldm_SmallDependenceEmphasis |   original_gldm_SmallDependenceHighGrayLevelEmphasis |   original_gldm_SmallDependenceLowGrayLevelEmphasis |   original_glrlm_GrayLevelNonUniformity |   original_glrlm_GrayLevelNonUniformityNormalized |   original_glrlm_GrayLevelVariance |   original_glrlm_HighGrayLevelRunEmphasis |   original_glrlm_LongRunEmphasis |   original_glrlm_LongRunHighGrayLevelEmphasis |   original_glrlm_LongRunLowGrayLevelEmphasis |   original_glrlm_LowGrayLevelRunEmphasis |   original_glrlm_RunEntropy |   original_glrlm_RunLengthNonUniformity |   original_glrlm_RunLengthNonUniformityNormalized |   original_glrlm_RunPercentage |   original_glrlm_RunVariance |   original_glrlm_ShortRunEmphasis |   original_glrlm_ShortRunHighGrayLevelEmphasis |   original_glrlm_ShortRunLowGrayLevelEmphasis |   original_glszm_GrayLevelNonUniformity |   original_glszm_GrayLevelNonUniformityNormalized |   original_glszm_GrayLevelVariance |   original_glszm_HighGrayLevelZoneEmphasis |   original_glszm_LargeAreaEmphasis |   original_glszm_LargeAreaHighGrayLevelEmphasis |   original_glszm_LargeAreaLowGrayLevelEmphasis |   original_glszm_LowGrayLevelZoneEmphasis |   original_glszm_SizeZoneNonUniformity |   original_glszm_SizeZoneNonUniformityNormalized |   original_glszm_SmallAreaEmphasis |   original_glszm_SmallAreaHighGrayLevelEmphasis |   original_glszm_SmallAreaLowGrayLevelEmphasis |   original_glszm_ZoneEntropy |   original_glszm_ZonePercentage |   original_glszm_ZoneVariance |   original_shape_SurfaceArea |   original_shape_SurfaceVolumeRatio |   original_shape_VoxelVolume |\n",
            "|----+----------------+-------------+-------------+------------------------------------+------------------------------------+------------------------------+-------------------------------+------------------------------------------+--------------------------------+-------------------------------+----------------------------+---------------------------------------------+------------------------------+-------------------------------+-----------------------------+---------------------------------------------------+---------------------------------------+--------------------------------+-----------------------------------+----------------------------------+--------------------------------+---------------------------------+-----------------------------------+------------------------------+---------------------------------+--------------------------+-----------------------------+-----------------------------------+-----------------------------------+------------------------------------+--------------------+---------------------+----------------------+---------------------+----------------------+----------------------+---------------------------------+------------------------------+-----------------------------+------------------------------+---------------------+------------------------------------+----------------------------+----------------------------+----------------------------+-----------------------------------+-----------------------------------------+---------------------------------------------------+------------------------------------+----------------------------------------+-----------------------------------+---------------------------------------+-----------------------------------------+------------------------------------------------------+-----------------------------------------------------+--------------------------------------+-----------------------------------------+------------------------------------------------------+-----------------------------------------------------+-----------------------------------------+---------------------------------------------------+------------------------------------+-------------------------------------------+----------------------------------+-----------------------------------------------+----------------------------------------------+------------------------------------------+-----------------------------+-----------------------------------------+---------------------------------------------------+--------------------------------+------------------------------+-----------------------------------+------------------------------------------------+-----------------------------------------------+-----------------------------------------+---------------------------------------------------+------------------------------------+--------------------------------------------+------------------------------------+-------------------------------------------------+------------------------------------------------+-------------------------------------------+----------------------------------------+--------------------------------------------------+------------------------------------+-------------------------------------------------+------------------------------------------------+------------------------------+---------------------------------+-------------------------------+------------------------------+-------------------------------------+------------------------------|\n",
            "|  0 | LIDC-IDRI-0001 |           1 |           1 |                               -631 |                                123 |                  9.16566e+08 |                       2.81831 |                                      493 |                        2.09349 |                           255 |                   -168.269 |                                     255.289 |                        -62.5 |                          -890 |                        1145 |                                           205.437 |                               337.346 |                      -0.669509 |                       9.16566e+08 |                         0.183004 |                        85488.2 |                         46.2123 |                           701.164 |                     -58.7915 |                         16.3272 |                  1.45275 |                    0.834271 |                          0.799013 |                           1.67696 |                           0.796313 |           0.689501 |             0.66401 |             0.983286 |            0.925648 |            -0.297271 |             0.883262 |                        0.402398 |                      6.51807 |                    0.100541 |                      4.55273 |            0.841773 |                           0.286964 |                    13.0361 |                    3.53402 |                    4.44499 |                           6.40618 |                                 455.581 |                                         0.0565658 |                            56.4991 |                                1473.92 |                           5.18628 |                               43.1814 |                                 184.992 |                                              11127.3 |                                             5.46185 |                            0.0702334 |                               0.0348664 |                                             0.806854 |                                          0.00531403 |                                 602.104 |                                          0.124089 |                            5.17319 |                                   35.4896 |                          5.65359 |                                       308.347 |                                     0.234222 |                                0.0885012 |                     4.33665 |                                  2722.2 |                                          0.555509 |                       0.602481 |                      2.82001 |                          0.771162 |                                        24.3737 |                                     0.0744964 |                                 29.6753 |                                          0.192697 |                            3.20024 |                                    12.3961 |                            71061.3 |                                     4.13636e+06 |                                        1611.05 |                                  0.301099 |                                27.7273 |                                         0.180047 |                           0.427879 |                                         5.22225 |                                       0.122178 |                      5.33983 |                       0.0191209 |                       68326.1 |                      2931.78 |                            0.366061 |                         8054 |\n",
            "+----+----------------+-------------+-------------+------------------------------------+------------------------------------+------------------------------+-------------------------------+------------------------------------------+--------------------------------+-------------------------------+----------------------------+---------------------------------------------+------------------------------+-------------------------------+-----------------------------+---------------------------------------------------+---------------------------------------+--------------------------------+-----------------------------------+----------------------------------+--------------------------------+---------------------------------+-----------------------------------+------------------------------+---------------------------------+--------------------------+-----------------------------+-----------------------------------+-----------------------------------+------------------------------------+--------------------+---------------------+----------------------+---------------------+----------------------+----------------------+---------------------------------+------------------------------+-----------------------------+------------------------------+---------------------+------------------------------------+----------------------------+----------------------------+----------------------------+-----------------------------------+-----------------------------------------+---------------------------------------------------+------------------------------------+----------------------------------------+-----------------------------------+---------------------------------------+-----------------------------------------+------------------------------------------------------+-----------------------------------------------------+--------------------------------------+-----------------------------------------+------------------------------------------------------+-----------------------------------------------------+-----------------------------------------+---------------------------------------------------+------------------------------------+-------------------------------------------+----------------------------------+-----------------------------------------------+----------------------------------------------+------------------------------------------+-----------------------------+-----------------------------------------+---------------------------------------------------+--------------------------------+------------------------------+-----------------------------------+------------------------------------------------+-----------------------------------------------+-----------------------------------------+---------------------------------------------------+------------------------------------+--------------------------------------------+------------------------------------+-------------------------------------------------+------------------------------------------------+-------------------------------------------+----------------------------------------+--------------------------------------------------+------------------------------------+-------------------------------------------------+------------------------------------------------+------------------------------+---------------------------------+-------------------------------+------------------------------+-------------------------------------+------------------------------+\n"
          ]
        }
      ],
      "source": [
        "### NOTE:\n",
        "### check how to read images and extract the features\n",
        "\n",
        "db_path = '/content/gdrive/MyDrive/RICSE_DataAnalytics/FullDataset/VOIs'\n",
        "imageDirectory = 'image'\n",
        "maskDirectory =  'nodule_mask'\n",
        "\n",
        "imageName = os.path.join(db_path, imageDirectory, 'LIDC-IDRI-0001_R_1.nii.gz') # iterate\n",
        "maskName  = os.path.join(db_path, maskDirectory, 'LIDC-IDRI-0001_R_1.nii.gz') # iterate\n",
        "patient_id = 'LIDC-IDRI-0001' # iterate\n",
        "nodule_id = 1 # iterate\n",
        "\n",
        "# params = '/content/gdrive/MyDrive/RICSE/FeaturesExtraction_Params.yaml'\n",
        "params = '/content/gdrive/MyDrive/RICSE_DataAnalytics/Modified_Params.yaml'\n",
        "extractor = featureextractor.RadiomicsFeatureExtractor(params)\n",
        "\n",
        "imageITK = sitk.ReadImage(imageName)\n",
        "maskITK = sitk.ReadImage(maskName)\n",
        "\n",
        "df_mv = pd.read_excel('/content/gdrive/MyDrive/RICSE_DataAnalytics/FullDataset/MetadatabyNoduleMaxVoting.xlsx',\n",
        "                      sheet_name='ML4PM_MetadatabyNoduleMaxVoting',\n",
        "                      engine='openpyxl')\n",
        "# print(df_mv)\n",
        "diagnosis = df_mv[(df_mv.patient_id==patient_id) & (df_mv.nodule_id==nodule_id)].Diagnosis_value.values[0]\n",
        "\n",
        "featureVector = extractor.execute(imageITK, maskITK)\n",
        "# for key, val in six.iteritems(result):\n",
        "#     print(\"\\t%s: %s\" %(key, val))\n",
        "# for featureName in featureVector.keys():\n",
        "#     print(\"Computed {}: {}\".format(featureName, result[featureName]))\n",
        "\n",
        "myList = []\n",
        "new_row = {}\n",
        "# Showing the features and its calculated values\n",
        "for featureName in featureVector.keys():\n",
        "    #print(\"Computed {}: {}\".format(featureName, featureVector[featureName]))\n",
        "    if ('firstorder' in featureName) or ('glszm' in featureName) or \\\n",
        "        ('glcm' in featureName) or ('glrlm' in featureName) or \\\n",
        "        ('gldm' in featureName) or ('shape' in featureName):\n",
        "            new_row.update({featureName: featureVector[featureName]})\n",
        "lst = sorted(new_row.items())  # Ordering the new_row dictionary\n",
        "# Adding some columns\n",
        "lst.insert(0, ('diagnosis', diagnosis))\n",
        "# lst.insert(0, ('slice_number', i))\n",
        "lst.insert(0, ('nodule_id', nodule_id))\n",
        "lst.insert(0, ('patient_id', patient_id))\n",
        "od = OrderedDict(lst)\n",
        "# return od\n",
        "# print(od)\n",
        "myList.append(od)\n",
        "\n",
        "df = pd.DataFrame.from_dict(myList)\n",
        "# print(df.to_string())\n",
        "print(tabulate(df, headers='keys', tablefmt='psql'))"
      ]
    },
    {
      "cell_type": "markdown",
      "source": [
        "## Check \"Metadata\" file columns"
      ],
      "metadata": {
        "id": "ZyeZcAmKrLHq"
      }
    },
    {
      "cell_type": "code",
      "execution_count": null,
      "metadata": {
        "colab": {
          "base_uri": "https://localhost:8080/"
        },
        "id": "YQC5qNCi_p3E",
        "outputId": "539e3486-17b7-45ba-aa95-618e3d0fb4a9"
      },
      "outputs": [
        {
          "output_type": "stream",
          "name": "stdout",
          "text": [
            "patient_id\n",
            "nodule_id\n",
            "seriesuid\n",
            "coordX\n",
            "coordY\n",
            "coordZ\n",
            "diameter_mm\n",
            "bboxLowX\n",
            "bboxLowY\n",
            "bboxLowZ\n",
            "bboxHighX\n",
            "bboxHighY\n",
            "bboxHighZ\n",
            "Diagnosis\n",
            "Diagnosis_value\n",
            "Malignancy\n",
            "Malignancy_value\n",
            "Calcification\n",
            "Calcification_value\n",
            "InternalStructure\n",
            "InternalStructure_value\n",
            "Lobulation\n",
            "Lobulation_value\n",
            "Margin\n",
            "Margin_value\n",
            "Sphericity\n",
            "Sphericity_value\n",
            "Spiculation\n",
            "Spiculation_value\n",
            "Subtlety\n",
            "Subtlety_value\n",
            "Texture\n",
            "Texture_value\n",
            "len_mal_details\n"
          ]
        }
      ],
      "source": [
        "### NOTE:\n",
        "### read the metadata file and list the existing columns\n",
        "df_mv = pd.read_excel('/content/gdrive/MyDrive/RICSE_DataAnalytics/FullDataset/MetadatabyNoduleMaxVoting.xlsx',\n",
        "                      sheet_name='ML4PM_MetadatabyNoduleMaxVoting',\n",
        "                      engine='openpyxl')\n",
        "\n",
        "for col in df_mv.columns:\n",
        "    print(col)"
      ]
    },
    {
      "cell_type": "markdown",
      "metadata": {
        "id": "cVYCOF5k_7zO"
      },
      "source": [
        "### Diagnosis Values\n",
        "* 0: Benign\n",
        "* 1: Malign\n",
        "\n",
        "### Malignancy Values\n",
        "* 1: Highly Unlikely\n",
        "* 2: Moderately Unlikely\n",
        "* 3: Indeterminate\n",
        "* 4: Moderately Suspicious\n",
        "* 5: Highly Suspicious"
      ]
    },
    {
      "cell_type": "code",
      "execution_count": null,
      "metadata": {
        "id": "XAPN4JouxGmL"
      },
      "outputs": [],
      "source": [
        "# ### THIS IS CODE IS COMMENTED BECAUSE IT TAKES ABOUT 5MIN AND THE FILE WAS ALREADY GENERATED\n",
        "# ### NOTE:\n",
        "# ### iterate over all the images in the excel file (MetadatabyNoduleMaxVoting.xlsx)\n",
        "# ### extract the features and save in a new excel file (ExtractedFeatures.xlsx)\n",
        "\n",
        "# df_mv = pd.read_excel('/content/gdrive/MyDrive/RICSE_DataAnalytics/FullDataset/MetadatabyNoduleMaxVoting.xlsx',\n",
        "#                       sheet_name='ML4PM_MetadatabyNoduleMaxVoting',\n",
        "#                       engine='openpyxl')\n",
        "\n",
        "# myList = []\n",
        "# for index, row in df_mv.iterrows():\n",
        "#     # print(row['patient_id'], row['nodule_id'])\n",
        "#     patient_id = str(row['patient_id'])\n",
        "#     nodule_id = str(row['nodule_id'])\n",
        "#     # diagnosis = row['Diagnosis']\n",
        "#     diagnosis = row['Diagnosis_value']\n",
        "#     # malignancy = row['Malignancy']\n",
        "#     malignancy = row['Malignancy_value']\n",
        "#     fileToFind = patient_id + '_R_' + nodule_id + '.nii.gz'\n",
        "#     print(fileToFind)\n",
        "#     imageName = os.path.join(db_path, imageDirectory, fileToFind) # iterate\n",
        "#     maskName  = os.path.join(db_path, maskDirectory, fileToFind) # iterate\n",
        "\n",
        "#     try:\n",
        "#       imageITK = sitk.ReadImage(imageName)\n",
        "#       maskITK = sitk.ReadImage(maskName)\n",
        "#       featureVector = extractor.execute(imageITK, maskITK)\n",
        "\n",
        "#       new_row = {}\n",
        "#       # Showing the features and its calculated values\n",
        "#       for featureName in featureVector.keys():\n",
        "#           #print(\"Computed {}: {}\".format(featureName, featureVector[featureName]))\n",
        "#           if ('firstorder' in featureName) or ('glszm' in featureName) or \\\n",
        "#               ('glcm' in featureName) or ('glrlm' in featureName) or \\\n",
        "#               ('gldm' in featureName) or ('shape' in featureName):\n",
        "#                   new_row.update({featureName: featureVector[featureName]})\n",
        "#       lst = sorted(new_row.items())  # Ordering the new_row dictionary\n",
        "#       # Adding some columns\n",
        "#       lst.insert(0, ('diagnosis', diagnosis))\n",
        "#       lst.insert(0, ('malignancy', malignancy))\n",
        "#       lst.insert(0, ('nodule_id', nodule_id))\n",
        "#       lst.insert(0, ('patient_id', patient_id))\n",
        "#       od = OrderedDict(lst)\n",
        "#       myList.append(od)\n",
        "#     except:\n",
        "#       print('File not found')\n",
        "\n",
        "\n",
        "# df = pd.DataFrame.from_dict(myList)\n",
        "# # print(tabulate(df, headers='keys', tablefmt='psql'))\n",
        "# df.to_csv('/content/gdrive/MyDrive/RICSE_DataAnalytics/ExtractedFeatures.csv')"
      ]
    },
    {
      "cell_type": "markdown",
      "source": [
        "## Check the \"ExtractedFeatures\" file columns"
      ],
      "metadata": {
        "id": "jD4GwDejrTyb"
      }
    },
    {
      "cell_type": "code",
      "execution_count": null,
      "metadata": {
        "id": "UfPN88JdDh5-",
        "colab": {
          "base_uri": "https://localhost:8080/"
        },
        "outputId": "ade30a77-0041-48ff-cfc4-36ce6de93ba9"
      },
      "outputs": [
        {
          "output_type": "stream",
          "name": "stdout",
          "text": [
            "Unnamed: 0\n",
            "patient_id\n",
            "nodule_id\n",
            "malignancy\n",
            "diagnosis\n",
            "original_firstorder_10Percentile\n",
            "original_firstorder_90Percentile\n",
            "original_firstorder_Energy\n",
            "original_firstorder_Entropy\n",
            "original_firstorder_InterquartileRange\n",
            "original_firstorder_Kurtosis\n",
            "original_firstorder_Maximum\n",
            "original_firstorder_Mean\n",
            "original_firstorder_MeanAbsoluteDeviation\n",
            "original_firstorder_Median\n",
            "original_firstorder_Minimum\n",
            "original_firstorder_Range\n",
            "original_firstorder_RobustMeanAbsoluteDeviation\n",
            "original_firstorder_RootMeanSquared\n",
            "original_firstorder_Skewness\n",
            "original_firstorder_TotalEnergy\n",
            "original_firstorder_Uniformity\n",
            "original_firstorder_Variance\n",
            "original_glcm_Autocorrelation\n",
            "original_glcm_ClusterProminence\n",
            "original_glcm_ClusterShade\n",
            "original_glcm_ClusterTendency\n",
            "original_glcm_Contrast\n",
            "original_glcm_Correlation\n",
            "original_glcm_DifferenceAverage\n",
            "original_glcm_DifferenceEntropy\n",
            "original_glcm_DifferenceVariance\n",
            "original_glcm_Id\n",
            "original_glcm_Idm\n",
            "original_glcm_Idmn\n",
            "original_glcm_Idn\n",
            "original_glcm_Imc1\n",
            "original_glcm_Imc2\n",
            "original_glcm_InverseVariance\n",
            "original_glcm_JointAverage\n",
            "original_glcm_JointEnergy\n",
            "original_glcm_JointEntropy\n",
            "original_glcm_MCC\n",
            "original_glcm_MaximumProbability\n",
            "original_glcm_SumAverage\n",
            "original_glcm_SumEntropy\n",
            "original_glcm_SumSquares\n",
            "original_gldm_DependenceEntropy\n",
            "original_gldm_DependenceNonUniformity\n",
            "original_gldm_DependenceNonUniformityNormalized\n",
            "original_gldm_DependenceVariance\n",
            "original_gldm_GrayLevelNonUniformity\n",
            "original_gldm_GrayLevelVariance\n",
            "original_gldm_HighGrayLevelEmphasis\n",
            "original_gldm_LargeDependenceEmphasis\n",
            "original_gldm_LargeDependenceHighGrayLevelEmphasis\n",
            "original_gldm_LargeDependenceLowGrayLevelEmphasis\n",
            "original_gldm_LowGrayLevelEmphasis\n",
            "original_gldm_SmallDependenceEmphasis\n",
            "original_gldm_SmallDependenceHighGrayLevelEmphasis\n",
            "original_gldm_SmallDependenceLowGrayLevelEmphasis\n",
            "original_glrlm_GrayLevelNonUniformity\n",
            "original_glrlm_GrayLevelNonUniformityNormalized\n",
            "original_glrlm_GrayLevelVariance\n",
            "original_glrlm_HighGrayLevelRunEmphasis\n",
            "original_glrlm_LongRunEmphasis\n",
            "original_glrlm_LongRunHighGrayLevelEmphasis\n",
            "original_glrlm_LongRunLowGrayLevelEmphasis\n",
            "original_glrlm_LowGrayLevelRunEmphasis\n",
            "original_glrlm_RunEntropy\n",
            "original_glrlm_RunLengthNonUniformity\n",
            "original_glrlm_RunLengthNonUniformityNormalized\n",
            "original_glrlm_RunPercentage\n",
            "original_glrlm_RunVariance\n",
            "original_glrlm_ShortRunEmphasis\n",
            "original_glrlm_ShortRunHighGrayLevelEmphasis\n",
            "original_glrlm_ShortRunLowGrayLevelEmphasis\n",
            "original_glszm_GrayLevelNonUniformity\n",
            "original_glszm_GrayLevelNonUniformityNormalized\n",
            "original_glszm_GrayLevelVariance\n",
            "original_glszm_HighGrayLevelZoneEmphasis\n",
            "original_glszm_LargeAreaEmphasis\n",
            "original_glszm_LargeAreaHighGrayLevelEmphasis\n",
            "original_glszm_LargeAreaLowGrayLevelEmphasis\n",
            "original_glszm_LowGrayLevelZoneEmphasis\n",
            "original_glszm_SizeZoneNonUniformity\n",
            "original_glszm_SizeZoneNonUniformityNormalized\n",
            "original_glszm_SmallAreaEmphasis\n",
            "original_glszm_SmallAreaHighGrayLevelEmphasis\n",
            "original_glszm_SmallAreaLowGrayLevelEmphasis\n",
            "original_glszm_ZoneEntropy\n",
            "original_glszm_ZonePercentage\n",
            "original_glszm_ZoneVariance\n",
            "original_shape_SurfaceArea\n",
            "original_shape_SurfaceVolumeRatio\n",
            "original_shape_VoxelVolume\n"
          ]
        }
      ],
      "source": [
        "### NOTE:\n",
        "### read the extracted features file and list the existing columns\n",
        "df_features = pd.read_csv('/content/gdrive/MyDrive/RICSE_DataAnalytics/ExtractedFeatures.csv')\n",
        "\n",
        "for col in df_features.columns:\n",
        "    print(col)\n",
        "\n",
        "### Just checking that everything was properly saved\n",
        "# for index, row in df_features.iterrows():\n",
        "#   print(row['patient_id'], row['nodule_id'], row['malignancy'], row['diagnosis'])\n",
        "\n",
        "# df_features_filtered = df_features.drop(['patient_id', 'nodule_id', 'diagnosis', 'malignancy'], axis=1)\n",
        "# df_features_filtered = df_features_filtered.drop(['original_firstorder_10Percentile','original_firstorder_90Percentile','original_firstorder_Energy','original_firstorder_Entropy','original_firstorder_InterquartileRange','original_firstorder_Kurtosis','original_firstorder_Maximum','original_firstorder_Mean','original_firstorder_MeanAbsoluteDeviation','original_firstorder_Median','original_firstorder_Minimum','original_firstorder_Range','original_firstorder_RobustMeanAbsoluteDeviation','original_firstorder_RootMeanSquared','original_firstorder_Skewness','original_firstorder_TotalEnergy','original_firstorder_Uniformity','original_firstorder_Variance'], axis = 1)\n",
        "# i = 0\n",
        "# for col in df_features_filtered.columns:\n",
        "#     i = i + 1\n",
        "#     print(i, col)"
      ]
    },
    {
      "cell_type": "markdown",
      "metadata": {
        "id": "mizOqEl1KKVq"
      },
      "source": [
        "## Train and test different classical models\n",
        "\n",
        "**Useful links:**\n",
        "- `sckit-learn` guide: https://scikit-learn.org/stable/user_guide.html\n",
        "\n",
        "**Models tested so far:**\n",
        "- Logistic regression\n",
        "- Decision tree\n",
        "- Support Vector Machine (SVM)\n",
        "- Nearest Neighbor (KNeighbor)\n",
        "- Random Forest (Embbeded Model)\n",
        "\n",
        "**Metrics used for comparision:**\n",
        "- accuracy\n",
        "- sensisitivy\n",
        "- specificity"
      ]
    },
    {
      "cell_type": "code",
      "source": [
        "### NOTE:\n",
        "### try different classifiers using as source the features extracted\n",
        "### decision tree, support vector machine\n",
        "from sklearn import tree, svm\n",
        "from sklearn.model_selection import train_test_split\n",
        "from sklearn.metrics import confusion_matrix, accuracy_score, recall_score\n",
        "from sklearn.neighbors import KNeighborsClassifier\n",
        "from sklearn.ensemble import RandomForestClassifier\n",
        "from sklearn.linear_model import LogisticRegression\n",
        "from sklearn.preprocessing import StandardScaler"
      ],
      "metadata": {
        "id": "jkzVfqmKw1dM"
      },
      "execution_count": null,
      "outputs": []
    },
    {
      "cell_type": "markdown",
      "source": [
        "## Try with different set of features\n",
        "**How to use this cell:**\n",
        "- Change the `df_features_filtered` variable to include more or less feature columns\n",
        "- After that, run all the following tables to get the results for each type of model\n",
        "\n",
        "- In order to modify the train/test set proportion the `test_size=` assignment should be updated.\n"
      ],
      "metadata": {
        "id": "vkMOYWVvyqNr"
      }
    },
    {
      "cell_type": "code",
      "source": [
        "### Feature selection and train/test sets splitting\n",
        "df_features = pd.read_csv('/content/gdrive/MyDrive/RICSE_DataAnalytics/ExtractedFeatures.csv')\n",
        "df_features = df_features.loc[:, ~df_features.columns.str.contains('^Unnamed')]\n",
        "### X should have all the predictor columns (try with different set of features)\n",
        "# X = df_features.to_numpy()\n",
        "# print(X.shape)\n",
        "df_features_filtered = df_features.drop(['patient_id', 'nodule_id', 'diagnosis', 'malignancy'], axis=1)\n",
        "# df_features_filtered = df_features.drop(['patient_id', 'nodule_id', 'diagnosis', 'malignancy'], axis=1)\n",
        "# df_features_filtered = df_features_filtered[['original_firstorder_10Percentile','original_firstorder_90Percentile','original_firstorder_Energy','original_firstorder_Entropy','original_firstorder_InterquartileRange','original_firstorder_Kurtosis','original_firstorder_Maximum','original_firstorder_Mean','original_firstorder_MeanAbsoluteDeviation','original_firstorder_Median','original_firstorder_Minimum','original_firstorder_Range','original_firstorder_RobustMeanAbsoluteDeviation','original_firstorder_RootMeanSquared','original_firstorder_Skewness','original_firstorder_TotalEnergy','original_firstorder_Uniformity','original_firstorder_Variance']]\n",
        "# df_features_filtered = df_features_filtered.drop(['original_firstorder_10Percentile','original_firstorder_90Percentile','original_firstorder_Energy','original_firstorder_Entropy','original_firstorder_InterquartileRange','original_firstorder_Kurtosis','original_firstorder_Maximum','original_firstorder_Mean','original_firstorder_MeanAbsoluteDeviation','original_firstorder_Median','original_firstorder_Minimum','original_firstorder_Range','original_firstorder_RobustMeanAbsoluteDeviation','original_firstorder_RootMeanSquared','original_firstorder_Skewness','original_firstorder_TotalEnergy','original_firstorder_Uniformity','original_firstorder_Variance'], axis = 1)\n",
        "# print(df_features_filtered)\n",
        "X  = df_features_filtered.to_numpy()\n",
        "X = StandardScaler().fit_transform(X)\n",
        "# print(X)\n",
        "# print(X.shape)\n",
        "\n",
        "### y_<name> should have the predicted column (use either diagnosis or malignancy)\n",
        "y_diagnosis = df_features[\"diagnosis\"].to_numpy()\n",
        "# print(y_diagnosis)\n",
        "# print(y_diagnosis.shape)\n",
        "\n",
        "X_train, X_test, y_train, y_test = train_test_split(X, y_diagnosis, test_size=0.3, random_state=42)\n",
        "print(X_train.shape)\n",
        "print(X_test.shape)"
      ],
      "metadata": {
        "colab": {
          "base_uri": "https://localhost:8080/"
        },
        "id": "UVECL7ErxkD_",
        "outputId": "3fc30b7f-5543-45e6-8ff6-8b091f458356"
      },
      "execution_count": null,
      "outputs": [
        {
          "output_type": "stream",
          "name": "stdout",
          "text": [
            "(695, 91)\n",
            "(299, 91)\n"
          ]
        }
      ]
    },
    {
      "cell_type": "code",
      "source": [
        "### check the features index for further analysis\n",
        "i = 0\n",
        "for col in df_features_filtered.columns:\n",
        "    print(i, col)\n",
        "    i = i + 1"
      ],
      "metadata": {
        "colab": {
          "base_uri": "https://localhost:8080/"
        },
        "id": "OTizavuVWjGy",
        "outputId": "dd9f956f-3b63-49f8-8871-17cc8b2879b6"
      },
      "execution_count": null,
      "outputs": [
        {
          "output_type": "stream",
          "name": "stdout",
          "text": [
            "0 original_firstorder_10Percentile\n",
            "1 original_firstorder_90Percentile\n",
            "2 original_firstorder_Energy\n",
            "3 original_firstorder_Entropy\n",
            "4 original_firstorder_InterquartileRange\n",
            "5 original_firstorder_Kurtosis\n",
            "6 original_firstorder_Maximum\n",
            "7 original_firstorder_Mean\n",
            "8 original_firstorder_MeanAbsoluteDeviation\n",
            "9 original_firstorder_Median\n",
            "10 original_firstorder_Minimum\n",
            "11 original_firstorder_Range\n",
            "12 original_firstorder_RobustMeanAbsoluteDeviation\n",
            "13 original_firstorder_RootMeanSquared\n",
            "14 original_firstorder_Skewness\n",
            "15 original_firstorder_TotalEnergy\n",
            "16 original_firstorder_Uniformity\n",
            "17 original_firstorder_Variance\n",
            "18 original_glcm_Autocorrelation\n",
            "19 original_glcm_ClusterProminence\n",
            "20 original_glcm_ClusterShade\n",
            "21 original_glcm_ClusterTendency\n",
            "22 original_glcm_Contrast\n",
            "23 original_glcm_Correlation\n",
            "24 original_glcm_DifferenceAverage\n",
            "25 original_glcm_DifferenceEntropy\n",
            "26 original_glcm_DifferenceVariance\n",
            "27 original_glcm_Id\n",
            "28 original_glcm_Idm\n",
            "29 original_glcm_Idmn\n",
            "30 original_glcm_Idn\n",
            "31 original_glcm_Imc1\n",
            "32 original_glcm_Imc2\n",
            "33 original_glcm_InverseVariance\n",
            "34 original_glcm_JointAverage\n",
            "35 original_glcm_JointEnergy\n",
            "36 original_glcm_JointEntropy\n",
            "37 original_glcm_MCC\n",
            "38 original_glcm_MaximumProbability\n",
            "39 original_glcm_SumAverage\n",
            "40 original_glcm_SumEntropy\n",
            "41 original_glcm_SumSquares\n",
            "42 original_gldm_DependenceEntropy\n",
            "43 original_gldm_DependenceNonUniformity\n",
            "44 original_gldm_DependenceNonUniformityNormalized\n",
            "45 original_gldm_DependenceVariance\n",
            "46 original_gldm_GrayLevelNonUniformity\n",
            "47 original_gldm_GrayLevelVariance\n",
            "48 original_gldm_HighGrayLevelEmphasis\n",
            "49 original_gldm_LargeDependenceEmphasis\n",
            "50 original_gldm_LargeDependenceHighGrayLevelEmphasis\n",
            "51 original_gldm_LargeDependenceLowGrayLevelEmphasis\n",
            "52 original_gldm_LowGrayLevelEmphasis\n",
            "53 original_gldm_SmallDependenceEmphasis\n",
            "54 original_gldm_SmallDependenceHighGrayLevelEmphasis\n",
            "55 original_gldm_SmallDependenceLowGrayLevelEmphasis\n",
            "56 original_glrlm_GrayLevelNonUniformity\n",
            "57 original_glrlm_GrayLevelNonUniformityNormalized\n",
            "58 original_glrlm_GrayLevelVariance\n",
            "59 original_glrlm_HighGrayLevelRunEmphasis\n",
            "60 original_glrlm_LongRunEmphasis\n",
            "61 original_glrlm_LongRunHighGrayLevelEmphasis\n",
            "62 original_glrlm_LongRunLowGrayLevelEmphasis\n",
            "63 original_glrlm_LowGrayLevelRunEmphasis\n",
            "64 original_glrlm_RunEntropy\n",
            "65 original_glrlm_RunLengthNonUniformity\n",
            "66 original_glrlm_RunLengthNonUniformityNormalized\n",
            "67 original_glrlm_RunPercentage\n",
            "68 original_glrlm_RunVariance\n",
            "69 original_glrlm_ShortRunEmphasis\n",
            "70 original_glrlm_ShortRunHighGrayLevelEmphasis\n",
            "71 original_glrlm_ShortRunLowGrayLevelEmphasis\n",
            "72 original_glszm_GrayLevelNonUniformity\n",
            "73 original_glszm_GrayLevelNonUniformityNormalized\n",
            "74 original_glszm_GrayLevelVariance\n",
            "75 original_glszm_HighGrayLevelZoneEmphasis\n",
            "76 original_glszm_LargeAreaEmphasis\n",
            "77 original_glszm_LargeAreaHighGrayLevelEmphasis\n",
            "78 original_glszm_LargeAreaLowGrayLevelEmphasis\n",
            "79 original_glszm_LowGrayLevelZoneEmphasis\n",
            "80 original_glszm_SizeZoneNonUniformity\n",
            "81 original_glszm_SizeZoneNonUniformityNormalized\n",
            "82 original_glszm_SmallAreaEmphasis\n",
            "83 original_glszm_SmallAreaHighGrayLevelEmphasis\n",
            "84 original_glszm_SmallAreaLowGrayLevelEmphasis\n",
            "85 original_glszm_ZoneEntropy\n",
            "86 original_glszm_ZonePercentage\n",
            "87 original_glszm_ZoneVariance\n",
            "88 original_shape_SurfaceArea\n",
            "89 original_shape_SurfaceVolumeRatio\n",
            "90 original_shape_VoxelVolume\n"
          ]
        }
      ]
    },
    {
      "cell_type": "code",
      "source": [
        "### logistic regression test\n",
        "clf = LogisticRegression(random_state=0)\n",
        "clf = clf.fit(X_train, y_train)\n",
        "y_pred = clf.predict(X_test)\n",
        "\n",
        "### logistic regression results\n",
        "tn, fp, fn, tp = confusion_matrix(y_test, y_pred).ravel()\n",
        "print('Confusion matrix results')\n",
        "print(f'True positive (TP): {tp}')\n",
        "print(f'False positive (FP): {fp}')\n",
        "print(f'True negative (TN): {tn}')\n",
        "print(f'Flase negative (FN): {fn}')\n",
        "acc = accuracy_score(y_test, y_pred)\n",
        "print(f'Accuracy of the model is: {acc}')\n",
        "sensitivity = tp / (tp + fn)\n",
        "specificity = tn / (tn + fp)\n",
        "print(f'Sensitivity: {sensitivity}')\n",
        "print(f'Specificity: {specificity}')"
      ],
      "metadata": {
        "colab": {
          "base_uri": "https://localhost:8080/"
        },
        "id": "pvZDJMOoxcnO",
        "outputId": "14822d2f-f27b-4162-b59e-f027e1dbd2c5"
      },
      "execution_count": null,
      "outputs": [
        {
          "output_type": "stream",
          "name": "stdout",
          "text": [
            "Confusion matrix results\n",
            "True positive (TP): 91\n",
            "False positive (FP): 18\n",
            "True negative (TN): 174\n",
            "Flase negative (FN): 16\n",
            "Accuracy of the model is: 0.8862876254180602\n",
            "Sensitivity: 0.8504672897196262\n",
            "Specificity: 0.90625\n"
          ]
        }
      ]
    },
    {
      "cell_type": "code",
      "source": [
        "from sklearn.metrics import classification_report"
      ],
      "metadata": {
        "id": "bkh89MrCvOS9"
      },
      "execution_count": null,
      "outputs": []
    },
    {
      "cell_type": "code",
      "execution_count": null,
      "metadata": {
        "colab": {
          "base_uri": "https://localhost:8080/"
        },
        "id": "nYZLTTzhvfvo",
        "outputId": "ac6f7bb1-eb2d-492b-b8de-93d8a4bbecbf"
      },
      "outputs": [
        {
          "output_type": "stream",
          "name": "stdout",
          "text": [
            "Confusion matrix results\n",
            "True positive (TP): 94\n",
            "False positive (FP): 24\n",
            "True negative (TN): 168\n",
            "False negative (FN): 13\n",
            "Accuracy of the model is: 0.8762541806020067\n",
            "Sensitivity: 0.8785046728971962\n",
            "Specificity: 0.875\n",
            "              precision    recall  f1-score   support\n",
            "\n",
            "           0       0.93      0.88      0.90       192\n",
            "           1       0.80      0.88      0.84       107\n",
            "\n",
            "    accuracy                           0.88       299\n",
            "   macro avg       0.86      0.88      0.87       299\n",
            "weighted avg       0.88      0.88      0.88       299\n",
            "\n"
          ]
        }
      ],
      "source": [
        "### decision tree test\n",
        "clf = tree.DecisionTreeClassifier(max_depth=4)\n",
        "clf = clf.fit(X_train, y_train)\n",
        "y_pred = clf.predict(X_test)\n",
        "\n",
        "### decision tree results\n",
        "tn, fp, fn, tp = confusion_matrix(y_test, y_pred).ravel()\n",
        "print('Confusion matrix results')\n",
        "print(f'True positive (TP): {tp}')\n",
        "print(f'False positive (FP): {fp}')\n",
        "print(f'True negative (TN): {tn}')\n",
        "print(f'False negative (FN): {fn}')\n",
        "acc = accuracy_score(y_test, y_pred)\n",
        "print(f'Accuracy of the model is: {acc}')\n",
        "sensitivity = tp / (tp + fn)\n",
        "specificity = tn / (tn + fp)\n",
        "print(f'Sensitivity: {sensitivity}')\n",
        "print(f'Specificity: {specificity}')\n",
        "# # plot tree\n",
        "# plt.figure(figsize=(12,12))  # set plot size (denoted in inches)\n",
        "# tree.plot_tree(clf, fontsize=10)\n",
        "# plt.show()\n",
        "report = classification_report(y_test, y_pred, labels=[0, 1])\n",
        "print(report)"
      ]
    },
    {
      "cell_type": "code",
      "source": [
        "### support vector machine test\n",
        "clf = svm.SVC()\n",
        "clf = clf.fit(X_train, y_train)\n",
        "y_pred = clf.predict(X_test)\n",
        "\n",
        "### support vector machine results\n",
        "tn, fp, fn, tp = confusion_matrix(y_test, y_pred).ravel()\n",
        "print('Confusion matrix results')\n",
        "print(f'True positive (TP): {tp}')\n",
        "print(f'False positive (FP): {fp}')\n",
        "print(f'True negative (TN): {tn}')\n",
        "print(f'False negative (FN): {fn}')\n",
        "acc = accuracy_score(y_test, y_pred)\n",
        "# rec = recall_score(y_test, y_pred)\n",
        "print(f'Accuracy of the model is: {acc}')\n",
        "# print(f'Recall of the model is: {rec}')\n",
        "sensitivity = tp / (tp + fn)\n",
        "specificity = tn / (tn + fp)\n",
        "print(f'Sensitivity: {sensitivity}')\n",
        "print(f'Specificity: {specificity}')\n",
        "\n",
        "report = classification_report(y_test, y_pred, labels=[0, 1])\n",
        "print(report)"
      ],
      "metadata": {
        "colab": {
          "base_uri": "https://localhost:8080/"
        },
        "id": "6v6uQWalw4gi",
        "outputId": "773b1490-b97f-458e-97fa-e92b6efea102"
      },
      "execution_count": null,
      "outputs": [
        {
          "output_type": "stream",
          "name": "stdout",
          "text": [
            "Confusion matrix results\n",
            "True positive (TP): 87\n",
            "False positive (FP): 15\n",
            "True negative (TN): 177\n",
            "False negative (FN): 20\n",
            "Accuracy of the model is: 0.882943143812709\n",
            "Sensitivity: 0.8130841121495327\n",
            "Specificity: 0.921875\n",
            "              precision    recall  f1-score   support\n",
            "\n",
            "           0       0.90      0.92      0.91       192\n",
            "           1       0.85      0.81      0.83       107\n",
            "\n",
            "    accuracy                           0.88       299\n",
            "   macro avg       0.88      0.87      0.87       299\n",
            "weighted avg       0.88      0.88      0.88       299\n",
            "\n"
          ]
        }
      ]
    },
    {
      "cell_type": "code",
      "source": [
        "# ### k-nearest neighbor test\n",
        "# clf = KNeighborsClassifier(n_neighbors=3)\n",
        "# clf = clf.fit(X_train, y_train)\n",
        "# y_pred = clf.predict(X_test)\n",
        "\n",
        "# ### k-nearest neighbor results\n",
        "# tn, fp, fn, tp = confusion_matrix(y_test, y_pred).ravel()\n",
        "# print('Confusion matrix results')\n",
        "# print(f'True positive (TP): {tp}')\n",
        "# print(f'False positive (FP): {fp}')\n",
        "# print(f'True negative (TN): {tn}')\n",
        "# print(f'False negative (FN): {fn}')\n",
        "# acc = accuracy_score(y_test, y_pred)\n",
        "# print(f'Accuracy of the model is: {acc}')\n",
        "# sensitivity = tp / (tp + fn)\n",
        "# specificity = tn / (tn + fp)\n",
        "# print(f'Sensitivity: {sensitivity}')\n",
        "# print(f'Specificity: {specificity}')\n",
        "\n",
        "# ### k-nearest neighbor test\n",
        "# clf = KNeighborsClassifier(n_neighbors=5)\n",
        "# clf = clf.fit(X_train, y_train)\n",
        "# y_pred = clf.predict(X_test)\n",
        "\n",
        "# ### k-nearest neighbor results\n",
        "# tn, fp, fn, tp = confusion_matrix(y_test, y_pred).ravel()\n",
        "# print('Confusion matrix results')\n",
        "# print(f'True positive (TP): {tp}')\n",
        "# print(f'False positive (FP): {fp}')\n",
        "# print(f'True negative (TN): {tn}')\n",
        "# print(f'False negative (FN): {fn}')\n",
        "# acc = accuracy_score(y_test, y_pred)\n",
        "# print(f'Accuracy of the model is: {acc}')\n",
        "# sensitivity = tp / (tp + fn)\n",
        "# specificity = tn / (tn + fp)\n",
        "# print(f'Sensitivity: {sensitivity}')\n",
        "# print(f'Specificity: {specificity}')\n",
        "\n",
        "# ### k-nearest neighbor test\n",
        "# clf = KNeighborsClassifier(n_neighbors=7)\n",
        "# clf = clf.fit(X_train, y_train)\n",
        "# y_pred = clf.predict(X_test)\n",
        "\n",
        "# ### k-nearest neighbor results\n",
        "# tn, fp, fn, tp = confusion_matrix(y_test, y_pred).ravel()\n",
        "# print('Confusion matrix results')\n",
        "# print(f'True positive (TP): {tp}')\n",
        "# print(f'False positive (FP): {fp}')\n",
        "# print(f'True negative (TN): {tn}')\n",
        "# print(f'False negative (FN): {fn}')\n",
        "# acc = accuracy_score(y_test, y_pred)\n",
        "# print(f'Accuracy of the model is: {acc}')\n",
        "# sensitivity = tp / (tp + fn)\n",
        "# specificity = tn / (tn + fp)\n",
        "# print(f'Sensitivity: {sensitivity}')\n",
        "# print(f'Specificity: {specificity}')\n",
        "\n",
        "### k-nearest neighbor test\n",
        "clf = KNeighborsClassifier(n_neighbors=9)\n",
        "clf = clf.fit(X_train, y_train)\n",
        "y_pred = clf.predict(X_test)\n",
        "\n",
        "### k-nearest neighbor results\n",
        "tn, fp, fn, tp = confusion_matrix(y_test, y_pred).ravel()\n",
        "print('Confusion matrix results')\n",
        "print(f'True positive (TP): {tp}')\n",
        "print(f'False positive (FP): {fp}')\n",
        "print(f'True negative (TN): {tn}')\n",
        "print(f'False negative (FN): {fn}')\n",
        "acc = accuracy_score(y_test, y_pred)\n",
        "print(f'Accuracy of the model is: {acc}')\n",
        "sensitivity = tp / (tp + fn)\n",
        "specificity = tn / (tn + fp)\n",
        "print(f'Sensitivity: {sensitivity}')\n",
        "print(f'Specificity: {specificity}')\n",
        "\n",
        "report = classification_report(y_test, y_pred, labels=[0, 1])\n",
        "print(report)\n",
        "\n",
        "# ### k-nearest neighbor test\n",
        "# clf = KNeighborsClassifier(n_neighbors=11)\n",
        "# clf = clf.fit(X_train, y_train)\n",
        "# y_pred = clf.predict(X_test)\n",
        "\n",
        "# ### k-nearest neighbor results\n",
        "# tn, fp, fn, tp = confusion_matrix(y_test, y_pred).ravel()\n",
        "# print('Confusion matrix results')\n",
        "# print(f'True positive (TP): {tp}')\n",
        "# print(f'False positive (FP): {fp}')\n",
        "# print(f'True negative (TN): {tn}')\n",
        "# print(f'False negative (FN): {fn}')\n",
        "# acc = accuracy_score(y_test, y_pred)\n",
        "# print(f'Accuracy of the model is: {acc}')\n",
        "# sensitivity = tp / (tp + fn)\n",
        "# specificity = tn / (tn + fp)\n",
        "# print(f'Sensitivity: {sensitivity}')\n",
        "# print(f'Specificity: {specificity}')"
      ],
      "metadata": {
        "colab": {
          "base_uri": "https://localhost:8080/"
        },
        "id": "Js1J_Q7qxB0d",
        "outputId": "05e0c5e5-f1d3-4a9f-dc48-03b174dc1818"
      },
      "execution_count": null,
      "outputs": [
        {
          "output_type": "stream",
          "name": "stdout",
          "text": [
            "Confusion matrix results\n",
            "True positive (TP): 92\n",
            "False positive (FP): 20\n",
            "True negative (TN): 172\n",
            "False negative (FN): 15\n",
            "Accuracy of the model is: 0.882943143812709\n",
            "Sensitivity: 0.8598130841121495\n",
            "Specificity: 0.8958333333333334\n",
            "              precision    recall  f1-score   support\n",
            "\n",
            "           0       0.92      0.90      0.91       192\n",
            "           1       0.82      0.86      0.84       107\n",
            "\n",
            "    accuracy                           0.88       299\n",
            "   macro avg       0.87      0.88      0.87       299\n",
            "weighted avg       0.88      0.88      0.88       299\n",
            "\n"
          ]
        }
      ]
    },
    {
      "cell_type": "code",
      "source": [
        "# ### random forest test\n",
        "# clf = RandomForestClassifier(n_estimators=5)\n",
        "# clf = clf.fit(X_train, y_train)\n",
        "# y_pred = clf.predict(X_test)\n",
        "\n",
        "# ### random forest results\n",
        "# tn, fp, fn, tp = confusion_matrix(y_test, y_pred).ravel()\n",
        "# print('Confusion matrix results')\n",
        "# print(f'True positive (TP): {tp}')\n",
        "# print(f'False positive (FP): {fp}')\n",
        "# print(f'True negative (TN): {tn}')\n",
        "# print(f'False negative (FN): {fn}')\n",
        "# acc = accuracy_score(y_test, y_pred)\n",
        "# print(f'Accuracy of the model is: {acc}')\n",
        "# sensitivity = tp / (tp + fn)\n",
        "# specificity = tn / (tn + fp)\n",
        "# print(f'Sensitivity: {sensitivity}')\n",
        "# print(f'Specificity: {specificity}')\n",
        "\n",
        "### random forest test\n",
        "clf = RandomForestClassifier(n_estimators=50)\n",
        "clf = clf.fit(X_train, y_train)\n",
        "y_pred = clf.predict(X_test)\n",
        "\n",
        "### random forest results\n",
        "tn, fp, fn, tp = confusion_matrix(y_test, y_pred).ravel()\n",
        "print('Confusion matrix results')\n",
        "print(f'True positive (TP): {tp}')\n",
        "print(f'False positive (FP): {fp}')\n",
        "print(f'True negative (TN): {tn}')\n",
        "print(f'False negative (FN): {fn}')\n",
        "acc = accuracy_score(y_test, y_pred)\n",
        "print(f'Accuracy of the model is: {acc}')\n",
        "sensitivity = tp / (tp + fn)\n",
        "specificity = tn / (tn + fp)\n",
        "print(f'Sensitivity: {sensitivity}')\n",
        "print(f'Specificity: {specificity}')\n",
        "\n",
        "report = classification_report(y_test, y_pred, labels=[0, 1])\n",
        "print(report)"
      ],
      "metadata": {
        "colab": {
          "base_uri": "https://localhost:8080/"
        },
        "id": "C7cXNYR_xNl-",
        "outputId": "f693d3b5-0931-4111-b452-c3bca444c2ab"
      },
      "execution_count": null,
      "outputs": [
        {
          "output_type": "stream",
          "name": "stdout",
          "text": [
            "Confusion matrix results\n",
            "True positive (TP): 90\n",
            "False positive (FP): 16\n",
            "True negative (TN): 176\n",
            "False negative (FN): 17\n",
            "Accuracy of the model is: 0.8896321070234113\n",
            "Sensitivity: 0.8411214953271028\n",
            "Specificity: 0.9166666666666666\n",
            "              precision    recall  f1-score   support\n",
            "\n",
            "           0       0.91      0.92      0.91       192\n",
            "           1       0.85      0.84      0.85       107\n",
            "\n",
            "    accuracy                           0.89       299\n",
            "   macro avg       0.88      0.88      0.88       299\n",
            "weighted avg       0.89      0.89      0.89       299\n",
            "\n"
          ]
        }
      ]
    },
    {
      "cell_type": "code",
      "source": [
        "### Feature selection and train/test sets splitting\n",
        "### X should have all the predictor columns (try with different set of features)\n",
        "df_features_filtered = df_features.drop(['patient_id', 'nodule_id', 'diagnosis', 'malignancy'], axis=1)\n",
        "df_features_filtered = df_features_filtered[['original_firstorder_10Percentile','original_firstorder_90Percentile','original_firstorder_Energy','original_firstorder_Entropy','original_firstorder_InterquartileRange','original_firstorder_Kurtosis','original_firstorder_Maximum','original_firstorder_Mean','original_firstorder_MeanAbsoluteDeviation','original_firstorder_Median','original_firstorder_Minimum','original_firstorder_Range','original_firstorder_RobustMeanAbsoluteDeviation','original_firstorder_RootMeanSquared','original_firstorder_Skewness','original_firstorder_TotalEnergy','original_firstorder_Uniformity','original_firstorder_Variance']]\n",
        "# df_features_filtered = df_features_filtered.drop(['original_firstorder_10Percentile','original_firstorder_90Percentile','original_firstorder_Energy','original_firstorder_Entropy','original_firstorder_InterquartileRange','original_firstorder_Kurtosis','original_firstorder_Maximum','original_firstorder_Mean','original_firstorder_MeanAbsoluteDeviation','original_firstorder_Median','original_firstorder_Minimum','original_firstorder_Range','original_firstorder_RobustMeanAbsoluteDeviation','original_firstorder_RootMeanSquared','original_firstorder_Skewness','original_firstorder_TotalEnergy','original_firstorder_Uniformity','original_firstorder_Variance'], axis = 1)\n",
        "X  = df_features_filtered.to_numpy()\n",
        "\n",
        "### y_<name> should have the predicted column (use either diagnosis or malignancy)\n",
        "y_diagnosis = df_features[\"diagnosis\"].to_numpy()\n",
        "\n",
        "X_train, X_test, y_train, y_test = train_test_split(X, y_diagnosis, test_size=0.3, random_state=42)\n",
        "print(X_train.shape)\n",
        "print(X_test.shape)\n",
        "\n",
        "### random forest test\n",
        "clf = RandomForestClassifier(n_estimators=10)\n",
        "clf = clf.fit(X_train, y_train)\n",
        "y_pred = clf.predict(X_test)\n",
        "\n",
        "### random forest results\n",
        "tn, fp, fn, tp = confusion_matrix(y_test, y_pred).ravel()\n",
        "print('Confusion matrix results')\n",
        "print(f'True positive (TP): {tp}')\n",
        "print(f'False positive (FP): {fp}')\n",
        "print(f'True negative (TN): {tn}')\n",
        "print(f'False negative (FN): {fn}')\n",
        "acc = accuracy_score(y_test, y_pred)\n",
        "print(f'Accuracy of the model is: {acc}')\n",
        "sensitivity = tp / (tp + fn)\n",
        "specificity = tn / (tn + fp)\n",
        "print(f'Sensitivity: {sensitivity}')\n",
        "print(f'Specificity: {specificity}')\n"
      ],
      "metadata": {
        "colab": {
          "base_uri": "https://localhost:8080/"
        },
        "id": "0Xso58vAzehf",
        "outputId": "db1c59c9-7949-40e8-d9b2-eb4aef2d0258"
      },
      "execution_count": null,
      "outputs": [
        {
          "output_type": "stream",
          "name": "stdout",
          "text": [
            "(695, 18)\n",
            "(299, 18)\n",
            "Confusion matrix results\n",
            "True positive (TP): 92\n",
            "False positive (FP): 16\n",
            "True negative (TN): 176\n",
            "False negative (FN): 15\n",
            "Accuracy of the model is: 0.8963210702341137\n",
            "Sensitivity: 0.8598130841121495\n",
            "Specificity: 0.9166666666666666\n"
          ]
        }
      ]
    },
    {
      "cell_type": "code",
      "source": [
        "import seaborn as sns\n",
        "### Feature selection and train/test sets splitting\n",
        "### X should have all the predictor columns (try with different set of features)\n",
        "df_features_filtered = df_features.drop(['patient_id', 'nodule_id', 'diagnosis', 'malignancy'], axis=1)\n",
        "# df_features_filtered = df_features_filtered[['original_firstorder_10Percentile','original_firstorder_90Percentile','original_firstorder_Energy','original_firstorder_Entropy','original_firstorder_InterquartileRange','original_firstorder_Kurtosis','original_firstorder_Maximum','original_firstorder_Mean','original_firstorder_MeanAbsoluteDeviation','original_firstorder_Median','original_firstorder_Minimum','original_firstorder_Range','original_firstorder_RobustMeanAbsoluteDeviation','original_firstorder_RootMeanSquared','original_firstorder_Skewness','original_firstorder_TotalEnergy','original_firstorder_Uniformity','original_firstorder_Variance']]\n",
        "# df_features_filtered = df_features_filtered.drop(['original_firstorder_10Percentile','original_firstorder_90Percentile','original_firstorder_Energy','original_firstorder_Entropy','original_firstorder_InterquartileRange','original_firstorder_Kurtosis','original_firstorder_Maximum','original_firstorder_Mean','original_firstorder_MeanAbsoluteDeviation','original_firstorder_Median','original_firstorder_Minimum','original_firstorder_Range','original_firstorder_RobustMeanAbsoluteDeviation','original_firstorder_RootMeanSquared','original_firstorder_Skewness','original_firstorder_TotalEnergy','original_firstorder_Uniformity','original_firstorder_Variance'], axis = 1)\n",
        "X  = df_features_filtered.to_numpy()\n",
        "\n",
        "### y_<name> should have the predicted column (use either diagnosis or malignancy)\n",
        "y_diagnosis = df_features[\"malignancy\"].to_numpy()\n",
        "\n",
        "X_train, X_test, y_train, y_test = train_test_split(X, y_diagnosis, test_size=0.3, random_state=42)\n",
        "print(X_train.shape)\n",
        "print(X_test.shape)\n",
        "\n",
        "### random forest test\n",
        "clf = RandomForestClassifier(n_estimators=10)\n",
        "clf = clf.fit(X_train, y_train)\n",
        "y_pred = clf.predict(X_test)\n",
        "\n",
        "### random forest results\n",
        "cm = confusion_matrix(y_test, y_pred)\n",
        "cm_df = pd.DataFrame(cm,\n",
        "                     index = ['1','2','3', '4', '5'],\n",
        "                     columns = ['1','2','3', '4', '5'])\n",
        "plt.figure(figsize=(5,4))\n",
        "sns.heatmap(cm_df, annot=True)\n",
        "plt.title('Confusion Matrix')\n",
        "plt.ylabel('Actual Values')\n",
        "plt.xlabel('Predicted Values')\n",
        "plt.show()\n",
        "acc = accuracy_score(y_test, y_pred)\n",
        "print(f'Accuracy of the model is: {acc}')\n",
        "# sensitivity = tp / (tp + fn)\n",
        "# specificity = tn / (tn + fp)\n",
        "# print(f'Sensitivity: {sensitivity}')\n",
        "# print(f'Specificity: {specificity}')"
      ],
      "metadata": {
        "colab": {
          "base_uri": "https://localhost:8080/",
          "height": 464
        },
        "id": "HQGBUoNK0pes",
        "outputId": "a82d7a04-a90c-4999-ac4a-a33e4d16942b"
      },
      "execution_count": null,
      "outputs": [
        {
          "output_type": "stream",
          "name": "stdout",
          "text": [
            "(695, 91)\n",
            "(299, 91)\n"
          ]
        },
        {
          "output_type": "display_data",
          "data": {
            "text/plain": [
              "<Figure size 500x400 with 2 Axes>"
            ],
            "image/png": "[encoded data removed]"
          },
          "metadata": {}
        },
        {
          "output_type": "stream",
          "name": "stdout",
          "text": [
            "Accuracy of the model is: 0.5183946488294314\n"
          ]
        }
      ]
    },
    {
      "cell_type": "code",
      "source": [
        "print('the end')"
      ],
      "metadata": {
        "colab": {
          "base_uri": "https://localhost:8080/"
        },
        "id": "g0NhkeWo6JJf",
        "outputId": "1af73c6d-c3ea-4448-85bc-5fccab5a26ad"
      },
      "execution_count": null,
      "outputs": [
        {
          "output_type": "stream",
          "name": "stdout",
          "text": [
            "the end\n"
          ]
        }
      ]
    }
  ],
  "metadata": {
    "colab": {
      "provenance": [],
      "include_colab_link": true
    },
    "kernelspec": {
      "display_name": "Python 3",
      "name": "python3"
    },
    "language_info": {
      "name": "python"
    }
  },
  "nbformat": 4,
  "nbformat_minor": 0
}